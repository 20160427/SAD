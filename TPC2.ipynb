# SAD - Sistemas Apoio Decisão 
#Trabalho nº 2 - Duarte Aguiar - 20160427 
#

def createDicionario(club, numberArray):
  tempDic = {}
  if(len(club) > 0) and (len(numberArray) > 0):
    for i in range(0, len(numberArray)):
      tempDic[numberArray[i]+club] = 0
  return tempDic

def incrementCartaNoDici(carta, dicionArg):
  if carta in dicionArg:
    dicionArg[carta] += 1
    
  return dicionArg

def minValueDoDici(dicionArg):
  tempArray = list(dicionArg.keys())
  minValue = -1
  for i in range(0, len(tempArray)):
    if i == 0:
      minValue = int(dicionArg[tempArray[i]])
    if minValue > int(dicionArg[tempArray[i]]):
      minValue = int(dicionArg[tempArray[i]])
  return minValue

def minValueDoArray(arrayarg):
  minValue = -1
  for i in range(0, len(arrayarg)):
    if i == 0:
      minValue = arrayarg[i]
    if minValue > arrayarg[i]:
      minValue = arrayarg[i]
  return minValue
  
def QtdtotaisCartas(arrayarg):
  cartaNumberArray = ["1","2","3","4","5","6","7","8","9","10","D","V","R"]
  copasDict = createDicionario("C", cartaNumberArray)
  pausDict = createDicionario("P", cartaNumberArray)
  ourosDict = createDicionario("O", cartaNumberArray)
  espadasDict = createDicionario("E", cartaNumberArray)
  
  
  for i in range(0, len(arrayarg)):
    possiblecarta = arrayarg[i]
    
    if(len(possiblecarta) > 0):
      suitcarta = possiblecarta[-1:]
    
      if suitcarta == "C":
        copasDict = incrementCartaNoDici(possiblecarta, copasDict)
      elif suitcarta == "P":
        pausDict = incrementCartaNoDici(possiblecarta, pausDict)
        
      elif suitcarta == "O":
        ourosDict = incrementCartaNoDici(possiblecarta, ourosDict)
      elif suitcarta == "E":
        espadasDict = incrementCartaNoDici(possiblecarta, espadasDict)
  
  minClubsArray = [minValueDoDici(copasDict), minValueDoDici(pausDict), minValueDoDici(ourosDict), minValueDoDici(espadasDict)]
  minFullDecks = minValueDoArray(minClubsArray)
  if minFullDecks > 0:
    print("Tem " + str(minFullDecks) + " baralhos completos!")
  else:
    print("Não tem baralhos completos!")
    #print("debug minFullDecks: " + str(minFullDecks))

A = ["1P", "1C", "1O", "2P", "2C", "2O", "2E", "3P", "3C", "3O", 
     "3E", "4P", "4C", "4O", "4E", "5P", "5C", "5O", "5E", "6P", "6C", "6O", 
     "6E", "7P", "7C", "7O", "7E", "8P", "8C", "8O", "8E", "9P", "9C", "9O", "9E", "DP", 
     "DC", "DO", "DE", "JP", "JC", "JO", "JE", "VP", "VC", "VO", "VE", "RP", "RC", "RO", "RE", 
     "1P", "1C", "1O", "1E", "2P", "2C", "2O", "2E", "3P", "3C", "3O", "3E", 
     "4P", "4C", "4O", "4E", "5P", "5C", "5O", "5E", "6P", "6C", "6O", "6E", "7P", "7C", 
     "7O", "7E", "8P", "8C", "8O", "8E", "9P", "9C", "9O", "9E", "DP", "DC", "DO", "DE", 
     "JP", "JC", "JO", "JE", "VP", "VC", "VO", "VE", "RP", "RC", "RO", "RE", "1P", "1C", 
     "1O", "1E", "2P", "2C", "2O", "2E", "3P", "3C", "3O", "3E", "4P", "4C", "4O", "4E", 
     "5P", "5C", "5O", "5E", "6P", "6C", "6O", "6E", "7P", "7C", "7O", "7E", "8P", "8C", 
     "8O", "8E", "9P", "9C", "9O", "9E", "DP", "DC", "DO", "DE", "JP", "JC", "JO", "JE", 
     "VP", "VC", "VO", "VE", "RP", "RC", "RO", "RE", "10O", "10E", "10C", "10P"]
    
QtdtotaisCartas(A)
#['1C', '2C', '3C', '4C', '5C', '6C', '7C', '8C', '9C', '10C', 'DC', 'VC', 'RC']
#{'1C': 3, '2C': 3, '3C': 3, '4C': 3, '5C': 3, '6C': 3, '7C': 3, '8C': 3, '9C': 3, '10C': 1, 'DC': 3, 'VC': 3, 'RC': 3}

#['1P', '2P', '3P', '4P', '5P', '6P', '7P', '8P', '9P', '10P', 'DP', 'VP', 'RP']
#{'1P': 3, '2P': 3, '3P': 3, '4P': 3, '5P': 3, '6P': 3, '7P': 3, '8P': 3, '9P': 3, '10P': 1, 'DP': 3, 'VP': 3, 'RP': 3}

#['1O', '2O', '3O', '4O', '5O', '6O', '7O', '8O', '9O', '10O', 'DO', 'VO', 'RO']
#{'1O': 3, '2O': 3, '3O': 3, '4O': 3, '5O': 3, '6O': 3, '7O': 3, '8O': 3, '9O': 3, '10O': 1, 'DO': 3, 'VO': 3, 'RO': 3}

#['1E', '2E', '3E', '4E', '5E', '6E', '7E', '8E', '9E', '10E', 'DE', 'VE', 'RE']
#{'1E': 2, '2E': 3, '3E': 3, '4E': 3, '5E': 3, '6E': 3, '7E': 3, '8E': 3, '9E': 3, '10E': 1, 'DE': 3, 'VE': 3, 'RE': 3}

